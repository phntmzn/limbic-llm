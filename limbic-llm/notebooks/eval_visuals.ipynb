{
 "cells": [
  {
   "cell_type": "markdown",
   "id": "afc90a60",
   "metadata": {
    "vscode": {
     "languageId": "plaintext"
    }
   },
   "source": [
    "# === Cell 1: Markdown ===\n",
    "# Evaluation Visuals for Limbic LLM\n",
    "This notebook visualizes evaluation metrics from experiments."
   ]
  },
  {
   "cell_type": "code",
   "execution_count": null,
   "id": "d829b42a",
   "metadata": {},
   "outputs": [],
   "source": [
    "# === Cell 2: Code ===\n",
    "import json\n",
    "import matplotlib.pyplot as plt\n",
    "import seaborn as sns\n",
    "\n",
    "# Load metrics from JSON file\n",
    "with open('../experiments/results/metrics.json') as f:\n",
    "    metrics = json.load(f)"
   ]
  },
  {
   "cell_type": "code",
   "execution_count": null,
   "id": "5c8aee2c",
   "metadata": {},
   "outputs": [],
   "source": [
    "# === Cell 3: Code ===\n",
    "# Example: Plotting loss curve\n",
    "losses = metrics.get(\"loss_curve\", [])\n",
    "plt.figure(figsize=(8, 4))\n",
    "plt.plot(losses, marker='o')\n",
    "plt.title(\"Validation Loss Over Epochs\")\n",
    "plt.xlabel(\"Epoch\")\n",
    "plt.ylabel(\"Loss\")\n",
    "plt.grid(True)\n",
    "plt.show()"
   ]
  }
 ],
 "metadata": {
  "language_info": {
   "name": "python"
  }
 },
 "nbformat": 4,
 "nbformat_minor": 5
}
