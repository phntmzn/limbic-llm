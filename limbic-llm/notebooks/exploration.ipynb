{
 "cells": [
  {
   "cell_type": "markdown",
   "id": "32c27b51",
   "metadata": {
    "vscode": {
     "languageId": "plaintext"
    }
   },
   "source": [
    "# === Cell 1: Markdown ===\n",
    "# 📊 Dataset Exploration for Limbic LLM\n",
    "This notebook provides a basic overview of the training and validation data for the Limbic LLM project.\n",
    "\n",
    "---"
   ]
  },
  {
   "cell_type": "code",
   "execution_count": null,
   "id": "0eebc8e6",
   "metadata": {},
   "outputs": [],
   "source": [
    "### Cell 2: Code\n",
    "import pandas as pd\n",
    "import json\n",
    "from pathlib import Path\n",
    "\n",
    "# Load training and validation data\n",
    "train_path = Path(\"../data/processed/train.json\")\n",
    "val_path = Path(\"../data/processed/val.json\")\n",
    "\n",
    "with open(train_path) as f:\n",
    "    train_data = [json.loads(line) for line in f]\n",
    "\n",
    "with open(val_path) as f:\n",
    "    val_data = [json.loads(line) for line in f]\n",
    "\n",
    "# Convert to DataFrame\n",
    "train_df = pd.DataFrame(train_data)\n",
    "val_df = pd.DataFrame(val_data)\n",
    "\n",
    "print(f\"Train samples: {len(train_df)}\")\n",
    "print(f\"Validation samples: {len(val_df)}\")\n"
   ]
  },
  {
   "cell_type": "code",
   "execution_count": null,
   "id": "c71556e8",
   "metadata": {},
   "outputs": [],
   "source": [
    "### Cell 3: Code\n",
    "# Display sample training data\n",
    "train_df.sample(3)"
   ]
  },
  {
   "cell_type": "code",
   "execution_count": null,
   "id": "da6a327e",
   "metadata": {},
   "outputs": [],
   "source": [
    "### Cell 4: Code\n",
    "# Basic stats\n",
    "train_df['prompt_length'] = train_df['prompt'].str.len()\n",
    "train_df['response_length'] = train_df['response'].str.len()\n",
    "\n",
    "print(\"Prompt length stats:\")\n",
    "print(train_df['prompt_length'].describe())\n",
    "\n",
    "print(\"\\nResponse length stats:\")\n",
    "print(train_df['response_length'].describe())"
   ]
  },
  {
   "cell_type": "code",
   "execution_count": null,
   "id": "982e50db",
   "metadata": {},
   "outputs": [],
   "source": [
    "\n",
    "### Cell 5: Code\n",
    "# Distribution plots\n",
    "import matplotlib.pyplot as plt\n",
    "import seaborn as sns\n",
    "\n",
    "plt.figure(figsize=(12, 5))\n",
    "sns.histplot(train_df['prompt_length'], bins=50, kde=True)\n",
    "plt.title(\"Prompt Length Distribution\")\n",
    "plt.xlabel(\"Characters\")\n",
    "plt.show()\n",
    "\n",
    "plt.figure(figsize=(12, 5))\n",
    "sns.histplot(train_df['response_length'], bins=50, kde=True)\n",
    "plt.title(\"Response Length Distribution\")\n",
    "plt.xlabel(\"Characters\")\n",
    "plt.show()"
   ]
  }
 ],
 "metadata": {
  "language_info": {
   "name": "python"
  }
 },
 "nbformat": 4,
 "nbformat_minor": 5
}
