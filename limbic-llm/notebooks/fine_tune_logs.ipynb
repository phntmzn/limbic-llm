{
 "cells": [
  {
   "cell_type": "markdown",
   "id": "74f2a16b",
   "metadata": {
    "vscode": {
     "languageId": "plaintext"
    }
   },
   "source": [
    "# === Cell 1: Markdown ===\n",
    "# 📈 Fine-Tuning Logs for Limbic LLM\n",
    "This notebook visualizes training and evaluation metrics collected during the fine-tuning process.\n"
   ]
  },
  {
   "cell_type": "code",
   "execution_count": null,
   "id": "161925cc",
   "metadata": {},
   "outputs": [],
   "source": [
    "### Cell 2: Code\n",
    "import json\n",
    "import pandas as pd\n",
    "import matplotlib.pyplot as plt\n",
    "import seaborn as sns\n",
    "from pathlib import Path\n",
    "\n",
    "# Load training logs\n",
    "log_path = Path(\"../experiments/results/logs/train_log.json\")\n",
    "\n",
    "with open(log_path) as f:\n",
    "    logs = json.load(f)\n",
    "\n",
    "# Convert to DataFrame\n",
    "log_df = pd.DataFrame(logs)\n",
    "\n",
    "# Show head of log\n",
    "log_df.head()"
   ]
  },
  {
   "cell_type": "code",
   "execution_count": null,
   "id": "8ddee2ee",
   "metadata": {},
   "outputs": [],
   "source": [
    "### Cell 3: Code\n",
    "# Plot training vs validation loss\n",
    "plt.figure(figsize=(10, 5))\n",
    "sns.lineplot(data=log_df, x=\"step\", y=\"train_loss\", label=\"Train Loss\")\n",
    "sns.lineplot(data=log_df, x=\"step\", y=\"val_loss\", label=\"Validation Loss\")\n",
    "plt.title(\"Loss During Fine-Tuning\")\n",
    "plt.xlabel(\"Step\")\n",
    "plt.ylabel(\"Loss\")\n",
    "plt.grid(True)\n",
    "plt.legend()\n",
    "plt.tight_layout()\n",
    "plt.show()"
   ]
  },
  {
   "cell_type": "code",
   "execution_count": null,
   "id": "aa137ce8",
   "metadata": {},
   "outputs": [],
   "source": [
    "### Cell 4: Code\n",
    "# Optional: Plot accuracy or F1 score if available\n",
    "if \"accuracy\" in log_df.columns:\n",
    "    plt.figure(figsize=(10, 5))\n",
    "    sns.lineplot(data=log_df, x=\"step\", y=\"accuracy\", label=\"Accuracy\")\n",
    "    plt.title(\"Model Accuracy During Fine-Tuning\")\n",
    "    plt.xlabel(\"Step\")\n",
    "    plt.ylabel(\"Accuracy\")\n",
    "    plt.grid(True)\n",
    "    plt.tight_layout()\n",
    "    plt.show()"
   ]
  }
 ],
 "metadata": {
  "language_info": {
   "name": "python"
  }
 },
 "nbformat": 4,
 "nbformat_minor": 5
}
